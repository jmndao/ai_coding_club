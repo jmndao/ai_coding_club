{
  "cells": [
    {
      "cell_type": "markdown",
      "metadata": {
        "id": "view-in-github",
        "colab_type": "text"
      },
      "source": [
        "<a href=\"https://colab.research.google.com/github/jmndao/ai_coding_club/blob/master/sgd_algo.ipynb\" target=\"_parent\"><img src=\"https://colab.research.google.com/assets/colab-badge.svg\" alt=\"Open In Colab\"/></a>"
      ]
    },
    {
      "cell_type": "code",
      "execution_count": 1,
      "metadata": {
        "id": "ihochAaPfqeR"
      },
      "outputs": [],
      "source": [
        "import tensorflow as tf\n",
        "import numpy as np\n",
        "import matplotlib.pyplot as plt\n",
        "%matplotlib inline"
      ]
    },
    {
      "cell_type": "markdown",
      "metadata": {
        "id": "duX_lH5tfqeX"
      },
      "source": [
        "### Homework 1\n",
        "In the notebook tutorial, please implement the stochastic gradient descent(SGD) method. Make a prediction with theta find from SGD and calculate the MSE."
      ]
    },
    {
      "cell_type": "markdown",
      "metadata": {
        "id": "6auN1f4VfqeY"
      },
      "source": [
        "#### SGD Implementation using tensorflow"
      ]
    },
    {
      "cell_type": "code",
      "execution_count": 8,
      "metadata": {
        "colab": {
          "base_uri": "https://localhost:8080/"
        },
        "id": "QIh0rdmlfqeZ",
        "outputId": "0f5596ab-672d-4173-9535-c5451540a227"
      },
      "outputs": [
        {
          "output_type": "stream",
          "name": "stdout",
          "text": [
            "(10, 1) (10, 1)\n"
          ]
        }
      ],
      "source": [
        "# Random seed for reproducibility\n",
        "tf.random.set_seed(10)\n",
        "\n",
        "x_train = tf.reshape(tf.linspace(5, -5, 10), (-1, 1))\n",
        "y_train = tf.reshape(tf.linspace(0, 10, 10), (-1, 1))\n",
        "print(x_train.shape, y_train.shape)"
      ]
    },
    {
      "cell_type": "markdown",
      "metadata": {
        "id": "w6oMLFoUfqec"
      },
      "source": [
        "#### Plotting data distribution"
      ]
    },
    {
      "cell_type": "code",
      "execution_count": 9,
      "metadata": {
        "colab": {
          "base_uri": "https://localhost:8080/",
          "height": 279
        },
        "id": "gfhCMAH2fqec",
        "outputId": "0193925f-5b24-4bc8-97b3-d91111f5ed86"
      },
      "outputs": [
        {
          "output_type": "display_data",
          "data": {
            "text/plain": [
              "<Figure size 432x288 with 1 Axes>"
            ],
            "image/png": "[encoded data removed]"
          },
          "metadata": {
            "needs_background": "light"
          }
        }
      ],
      "source": [
        "plt.figure()\n",
        "plt.plot(x_train, y_train, \"+\", markersize=5)\n",
        "plt.xlabel(\"$x$\")\n",
        "plt.ylabel(\"$y$\")\n",
        "plt.show()"
      ]
    },
    {
      "cell_type": "markdown",
      "metadata": {
        "id": "MNafzZt8fqed"
      },
      "source": [
        "#### Let's find $\\theta$ using the maximu likelihood method\n",
        "we know that:\n",
        "$$\n",
        "   Y_g = X_g^{T}\\theta\n",
        "$$\n",
        "then, after finding $\\theta$ we'll calculate the loss function using the expression below\n",
        "$$\n",
        "   L_{\\theta}(x) = 1/2*\\sum_{i=1}^{n}(h_{\\theta}(x_{i})-y_{i})^2.\n",
        "$$"
      ]
    },
    {
      "cell_type": "markdown",
      "metadata": {
        "id": "Ax1icrjmfqef"
      },
      "source": [
        "#### Finding $\\theta$ using the maximum likelihood estimator\n",
        "$$\n",
        "    \\theta^{ML} = (X_g^T X_g)^{-1} X_g^T Y_g\n",
        "$$"
      ]
    },
    {
      "cell_type": "code",
      "execution_count": 13,
      "metadata": {
        "colab": {
          "base_uri": "https://localhost:8080/"
        },
        "id": "TGnKmHQDfqef",
        "outputId": "ecc4c1fa-8a22-4913-8b86-6b7d1046de68"
      },
      "outputs": [
        {
          "output_type": "stream",
          "name": "stdout",
          "text": [
            "tf.Tensor([[-1.]], shape=(1, 1), dtype=float64)\n"
          ]
        }
      ],
      "source": [
        "# solving theta analytically\n",
        "T = tf.linalg.matrix_transpose\n",
        "\n",
        "def analytical_theta(X_g, Y_g):\n",
        "  # return np.linalg.solve(T(X_g) @ X_g, T(X_g) @ Y_g)\n",
        "  return tf.linalg.solve(T(X_g) @ X_g, T(X_g) @ Y_g)\n",
        "\n",
        "# Run\n",
        "theta = analytical_theta(x_train, y_train)\n",
        "print(theta)"
      ]
    },
    {
      "cell_type": "code",
      "execution_count": 14,
      "metadata": {
        "id": "kOH9hm9Cfqeg",
        "colab": {
          "base_uri": "https://localhost:8080/"
        },
        "outputId": "dfc659a3-db8d-492c-9ea0-5b113f013b94"
      },
      "outputs": [
        {
          "output_type": "stream",
          "name": "stdout",
          "text": [
            "10 1\n"
          ]
        }
      ],
      "source": [
        "# Checking data\n",
        "m, n = x_train.shape\n",
        "print(m, n)"
      ]
    },
    {
      "cell_type": "code",
      "execution_count": 81,
      "metadata": {
        "id": "vCkh_xP8fqeh"
      },
      "outputs": [],
      "source": [
        "def sgd_func(x_train, y_train, lr=0.001, epochs=10, batch_size=10):\n",
        "\n",
        "  m, n = x_train.shape\n",
        "  # \n",
        "  w = tf.Variable(tf.random.normal((n + 1, 1)), name='w')\n",
        "  x_new = tf.concat([tf.ones((m, 1)), x_train], axis=1)\n",
        "  dataset = tf.data.Dataset.from_tensor_slices((x_new, y_train))\n",
        "  # History for losses at each batch\n",
        "  loss_history = []\n",
        "\n",
        "  # SGD optimizer from keras\n",
        "  optimizer = tf.keras.optimizers.SGD(learning_rate=lr)\n",
        "\n",
        "  for epoch in range(epochs):\n",
        "    print(\"\\nStart of epoch %d\" % (epoch,))\n",
        "\n",
        "    # Iterate over the batches of the dataset.\n",
        "    for step, (x_batch, y_batch) in enumerate(dataset.batch(batch_size=batch_size)):\n",
        "\n",
        "      # Open a GradientTape to record the operations run\n",
        "      # during the forward pass, which enables auto-differentiation.\n",
        "      with tf.GradientTape() as tape:\n",
        "        y_pred = x_batch @ w\n",
        "        # Calculate the loss by substracting the actual\n",
        "        # value from the prediction\n",
        "        loss = tf.reduce_mean((tf.cast(y_batch, tf.float32) - tf.cast(y_pred, tf.float32))**2) \n",
        "        \n",
        "      # Use the gradient tape to automatically retrieve\n",
        "      # the gradients of the trainable variables with respect to the loss. \n",
        "      grads = tape.gradient(loss, [w])\n",
        "      loss_history.append(loss)\n",
        "      # Run one step of gradient descent by updating\n",
        "      # the value of the variables to minimize the loss.\n",
        "      optimizer.apply_gradients(zip(grads, [w]))\n",
        "      # Log every 10 batches.\n",
        "      if step % 50 == 0:\n",
        "          print(\n",
        "              \"Training loss (for one batch) at step %d: %.4f\"\n",
        "              % (step, float(loss))\n",
        "          )\n",
        "          print(\"Seen so far: %s samples\" % ((step + 1) * batch_size))\n",
        "    \n",
        "  return (grads, loss_history)\n",
        "    \n",
        "\n",
        "\n"
      ]
    },
    {
      "cell_type": "code",
      "source": [
        "X = 10 * tf.random.uniform(shape=(1000,5), dtype=tf.float32)\n",
        "y = 0.9 + np.dot(X, [2.2, 4., -4, 1, 2]).reshape(-1, 1)  # target vector\n",
        "(grads, loss_history) = sgd_func(X, y)"
      ],
      "metadata": {
        "colab": {
          "base_uri": "https://localhost:8080/"
        },
        "id": "0JUYKS7yuu8f",
        "outputId": "97caabcb-c6c4-480b-b58c-1ef68d47b2c3"
      },
      "execution_count": 82,
      "outputs": [
        {
          "output_type": "stream",
          "name": "stdout",
          "text": [
            "\n",
            "Start of epoch 0\n",
            "Training loss (for one batch) at step 0: 960.3392\n",
            "Seen so far: 10 samples\n",
            "Training loss (for one batch) at step 50: 82.9652\n",
            "Seen so far: 510 samples\n",
            "\n",
            "Start of epoch 1\n",
            "Training loss (for one batch) at step 0: 6.5909\n",
            "Seen so far: 10 samples\n",
            "Training loss (for one batch) at step 50: 2.4103\n",
            "Seen so far: 510 samples\n",
            "\n",
            "Start of epoch 2\n",
            "Training loss (for one batch) at step 0: 0.4198\n",
            "Seen so far: 10 samples\n",
            "Training loss (for one batch) at step 50: 0.1051\n",
            "Seen so far: 510 samples\n",
            "\n",
            "Start of epoch 3\n",
            "Training loss (for one batch) at step 0: 0.1224\n",
            "Seen so far: 10 samples\n",
            "Training loss (for one batch) at step 50: 0.0526\n",
            "Seen so far: 510 samples\n",
            "\n",
            "Start of epoch 4\n",
            "Training loss (for one batch) at step 0: 0.0932\n",
            "Seen so far: 10 samples\n",
            "Training loss (for one batch) at step 50: 0.0528\n",
            "Seen so far: 510 samples\n",
            "\n",
            "Start of epoch 5\n",
            "Training loss (for one batch) at step 0: 0.0868\n",
            "Seen so far: 10 samples\n",
            "Training loss (for one batch) at step 50: 0.0521\n",
            "Seen so far: 510 samples\n",
            "\n",
            "Start of epoch 6\n",
            "Training loss (for one batch) at step 0: 0.0839\n",
            "Seen so far: 10 samples\n",
            "Training loss (for one batch) at step 50: 0.0510\n",
            "Seen so far: 510 samples\n",
            "\n",
            "Start of epoch 7\n",
            "Training loss (for one batch) at step 0: 0.0817\n",
            "Seen so far: 10 samples\n",
            "Training loss (for one batch) at step 50: 0.0497\n",
            "Seen so far: 510 samples\n",
            "\n",
            "Start of epoch 8\n",
            "Training loss (for one batch) at step 0: 0.0797\n",
            "Seen so far: 10 samples\n",
            "Training loss (for one batch) at step 50: 0.0486\n",
            "Seen so far: 510 samples\n",
            "\n",
            "Start of epoch 9\n",
            "Training loss (for one batch) at step 0: 0.0778\n",
            "Seen so far: 10 samples\n",
            "Training loss (for one batch) at step 50: 0.0474\n",
            "Seen so far: 510 samples\n"
          ]
        }
      ]
    },
    {
      "cell_type": "code",
      "source": [
        " # visualize how our cost decreases over time\n",
        "plt.plot(np.arange(len(loss_history)), loss_history)\n",
        "plt.xlabel(\"Number of iterations (Epochs)\")\n",
        "plt.ylabel(\"Cost function  J(Θ)\")\n",
        "plt.title(\"Stochastic Gradient Descent\")\n",
        "plt.show()"
      ],
      "metadata": {
        "colab": {
          "base_uri": "https://localhost:8080/",
          "height": 295
        },
        "id": "RWDHrmaej9zF",
        "outputId": "5a2f98a4-d62f-4802-b9ee-72168c49301a"
      },
      "execution_count": 83,
      "outputs": [
        {
          "output_type": "display_data",
          "data": {
            "text/plain": [
              "<Figure size 432x288 with 1 Axes>"
            ],
            "image/png": "[encoded data removed]"
          },
          "metadata": {
            "needs_background": "light"
          }
        }
      ]
    },
    {
      "cell_type": "code",
      "source": [
        ""
      ],
      "metadata": {
        "id": "j2CFStVhz_fh"
      },
      "execution_count": null,
      "outputs": []
    }
  ],
  "metadata": {
    "interpreter": {
      "hash": "1e915f0a29dc84041eaeb02b7b1a21c440e37a87b61d44d5e84a515737dc82bc"
    },
    "kernelspec": {
      "display_name": "Python 3.8.5 64-bit ('base': conda)",
      "language": "python",
      "name": "python3"
    },
    "language_info": {
      "codemirror_mode": {
        "name": "ipython",
        "version": 3
      },
      "file_extension": ".py",
      "mimetype": "text/x-python",
      "name": "python",
      "nbconvert_exporter": "python",
      "pygments_lexer": "ipython3",
      "version": "3.8.5"
    },
    "orig_nbformat": 4,
    "colab": {
      "name": "sgd_algo.ipynb",
      "provenance": [],
      "collapsed_sections": [],
      "include_colab_link": true
    }
  },
  "nbformat": 4,
  "nbformat_minor": 0
}